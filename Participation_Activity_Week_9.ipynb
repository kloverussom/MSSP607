{
  "nbformat": 4,
  "nbformat_minor": 0,
  "metadata": {
    "colab": {
      "provenance": []
    },
    "kernelspec": {
      "name": "python3",
      "display_name": "Python 3"
    },
    "language_info": {
      "name": "python"
    }
  },
  "cells": [
    {
      "cell_type": "code",
      "execution_count": null,
      "metadata": {
        "colab": {
          "base_uri": "https://localhost:8080/"
        },
        "id": "5jsLvKtRAysl",
        "outputId": "2de6fbd0-e0c5-4918-d578-5a8a4068e853"
      },
      "outputs": [
        {
          "output_type": "stream",
          "name": "stdout",
          "text": [
            "Download completed!\n"
          ]
        }
      ],
      "source": [
        "import requests\n",
        "import os\n",
        "\n",
        "# Replace with your own Flickr API key\n",
        "api_key = 'YOUR_FLICKR_API_KEY'\n",
        "\n",
        "# Search parameters\n",
        "search_query = 'elephant'\n",
        "download_folder = 'elephant_photos'\n",
        "\n",
        "# Create a folder to store downloaded images\n",
        "if not os.path.exists(download_folder):\n",
        "    os.makedirs(download_folder)\n",
        "\n",
        "# Function to search for photos on Flickr and download them\n",
        "def download_flickr_photos(query, page=1):\n",
        "    url = 'https://api.flickr.com/services/rest/'\n",
        "    params = {\n",
        "        'method': 'flickr.photos.search',\n",
        "        'api_key': api_key,\n",
        "        'text': query,\n",
        "        'format': 'json',\n",
        "        'nojsoncallback': 1,\n",
        "        'per_page': 100,  # Number of photos per page\n",
        "        'page': page,\n",
        "    }\n",
        "\n",
        "    response = requests.get(url, params=params)\n",
        "    data = response.json()\n",
        "\n",
        "    if data['stat'] == 'ok':\n",
        "        photos = data['photos']['photo']\n",
        "        for photo in photos:\n",
        "            photo_url = f'https://farm{photo[\"farm\"]}.staticflickr.com/{photo[\"server\"]}/{photo[\"id\"]}_{photo[\"secret\"]}.jpg'\n",
        "            photo_filename = os.path.join(download_folder, f'{photo[\"id\"]}.jpg')\n",
        "            response = requests.get(photo_url)\n",
        "\n",
        "            if response.status_code == 200:\n",
        "                with open(photo_filename, 'wb') as f:\n",
        "                    f.write(response.content)\n",
        "                print(f'Downloaded: {photo_filename}')\n",
        "            else:\n",
        "                print(f'Failed to download: {photo_filename}')\n",
        "\n",
        "# Download photos from multiple pages (adjust the number of pages as needed)\n",
        "num_pages = 3\n",
        "for page in range(1, num_pages + 1):\n",
        "    download_flickr_photos(search_query, page)\n",
        "\n",
        "print('Download completed!')\n"
      ]
    }
  ]
}